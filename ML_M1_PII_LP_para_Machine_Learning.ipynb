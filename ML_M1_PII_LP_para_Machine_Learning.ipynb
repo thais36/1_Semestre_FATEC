{
  "nbformat": 4,
  "nbformat_minor": 0,
  "metadata": {
    "colab": {
      "provenance": [],
      "authorship_tag": "ABX9TyMKzz2hwi2aremhVyREQalP",
      "include_colab_link": true
    },
    "kernelspec": {
      "name": "python3",
      "display_name": "Python 3"
    },
    "language_info": {
      "name": "python"
    }
  },
  "cells": [
    {
      "cell_type": "markdown",
      "metadata": {
        "id": "view-in-github",
        "colab_type": "text"
      },
      "source": [
        "<a href=\"https://colab.research.google.com/github/thais36/1_Semestre_FATEC/blob/main/ML_M1_PII_LP_para_Machine_Learning.ipynb\" target=\"_parent\"><img src=\"https://colab.research.google.com/assets/colab-badge.svg\" alt=\"Open In Colab\"/></a>"
      ]
    },
    {
      "cell_type": "code",
      "execution_count": null,
      "metadata": {
        "id": "IGH3S9j0YRJe"
      },
      "outputs": [],
      "source": [
        "#Exemplo 001\n",
        "\n",
        "nome = 'Mariana' #variável tipo String\n",
        "idade = 18 #variável tipo Inteira\n",
        "altura = 1.65 #variável tipo Real\n",
        "casada = False #variável tipo Lógica\n",
        "\n",
        "texto = '10'\n",
        "idade = float(input('Digite a sua Idade'))\n",
        "print(\"Ola, {}, de {:.2f} anos\".format(nome,idade))"
      ]
    },
    {
      "cell_type": "code",
      "source": [
        "#Exemplo 002\n",
        "\n",
        "print('\\nQuinto exemplo: Variáveis Polimórficas')\n",
        "\n",
        "x = 10\n",
        "y = 2.5\n",
        "z = True\n",
        "c = 'Python'\n",
        "\n",
        "print('\\nx = ', x, 'tipo ', type(x))\n",
        "print('y = ', y, 'tipo ', type(y))\n",
        "print('z = ', z, 'tipo ', type(z))\n",
        "print('c = ', c, 'tipo ', type(c))\n",
        "\n",
        "x = x + y\n",
        "y = c\n",
        "c = False\n",
        "z = 'Linguagem de Programação'\n",
        "\n",
        "print('\\nx = ', x, 'tipo ', type(x))\n",
        "print('y = ', y, 'tipo ', type(y))\n",
        "print('z = ', z, 'tipo ', type(z))\n",
        "print('c = ', c, 'tipo ', type(c))"
      ],
      "metadata": {
        "colab": {
          "base_uri": "https://localhost:8080/"
        },
        "id": "efmdWPW3aAAe",
        "outputId": "301a6f67-ff41-4a27-ad32-d32f1e6804c6"
      },
      "execution_count": null,
      "outputs": [
        {
          "output_type": "stream",
          "name": "stdout",
          "text": [
            "\n",
            "Quinto exemplo: Variáveis Polimórficas\n",
            "\n",
            "x =  10 tipo  <class 'int'>\n",
            "y =  2.5 tipo  <class 'float'>\n",
            "z =  True tipo  <class 'bool'>\n",
            "c =  Python tipo  <class 'str'>\n",
            "\n",
            "x =  12.5 tipo  <class 'float'>\n",
            "y =  Python tipo  <class 'str'>\n",
            "z =  Linguagem de Programação tipo  <class 'str'>\n",
            "c =  False tipo  <class 'bool'>\n"
          ]
        }
      ]
    },
    {
      "cell_type": "code",
      "source": [
        "#Exemplo 003\n",
        "\n",
        "print('Fatec de Zona Leste') #nome da Instituição\n",
        "print('Desenvolvimento de Software Multiplataforma') #nome do curso\n",
        "print('Profa. Mestre Eliane Santiago') #nome do Professor\n",
        "\n",
        "#Exemplo 1\n",
        "print('Exemplo 01: uso de operadores aritméticos em comandos de saída')\n",
        "a = 50\n",
        "b = 10\n",
        "c = a + b\n",
        "\n",
        "print( 'a = ', a, '\\t b = ', b, '\\t a + b = ', a+b)\n",
        "print(2)\n",
        "print(a)"
      ],
      "metadata": {
        "id": "uEvas-I_diE4"
      },
      "execution_count": null,
      "outputs": []
    },
    {
      "cell_type": "code",
      "source": [
        "#Exemplo 004\n",
        "mensagem = 'Olá Aluno!'\n",
        "\n",
        "print(mensagem)\n",
        "print('\\nPrimeiro exemplo: uso de operadores aritméticos em comandos de saída')\n",
        "\n",
        "a = 50\n",
        "b = 10\n",
        "c = a + b\n",
        "\n",
        "print('a = ', a, '\\t b = ', b, '\\t a + b = ', a+b)\n",
        "print('a = ', a, '\\t b = ', b, '\\t a - b = ', a-b)\n",
        "print('a = ', a, '\\t b = ', b, '\\t a / b = ', a/b)\n",
        "print('a = ', a, '\\t b = ', b, '\\t a * b = ', a*b)"
      ],
      "metadata": {
        "id": "SQco6M3Pe9E4"
      },
      "execution_count": null,
      "outputs": []
    },
    {
      "cell_type": "code",
      "source": [
        "#Exemplo 005\n",
        "\n",
        "print('\\nSegundo exemplo: Comprimento da Circunferência')\n",
        "\n",
        "PI = 3.14\n",
        "raio = 2\n",
        "C = 2 * PI * pow(raio, 2)\n",
        "\n",
        "print('C = 2*PI*(raio^2) = ', C)"
      ],
      "metadata": {
        "id": "A1YVYK9egW9L"
      },
      "execution_count": null,
      "outputs": []
    },
    {
      "cell_type": "code",
      "source": [
        "#Exemplo 006 fString\n",
        "\n",
        "import math\n",
        "x = math.pi\n",
        "\n",
        "print(f\"Usando Numero {x = }\")\n",
        "print(f\"|{x:25}|\")\n",
        "print(f\"|{x:<25}|\")\n",
        "print(f\"|{x:>25}|\")\n",
        "print(f\"|{x:^25}|\\n\")\n",
        "\n",
        "x = \"Aprendizagem de Máquina\"\n",
        "\n",
        "print(f\"Usando Texto {x = }\")\n",
        "print(f\"|{x:25}|\")\n",
        "print(f\"|{x:<25}|\")\n",
        "print(f\"|{x:>25}|\")\n",
        "print(f\"|{x:^25}|\\n\")"
      ],
      "metadata": {
        "id": "H9sUWBl9r3Wn"
      },
      "execution_count": null,
      "outputs": []
    },
    {
      "cell_type": "code",
      "source": [
        "#Exemplo 007 fString\n",
        "\n",
        "import math\n",
        "\n",
        "x = 10\n",
        "\n",
        "print(f\"Numero {x = }\")\n",
        "print(f\"Imprime sem formatação {x}\")\n",
        "print(f\"Imprime com formatação {x:d}\")\n",
        "print(f\"Imprime com formatação {x:n}\")\n",
        "print(f\"Imprime com espaço {x:10d}\\n\")\n",
        "\n",
        "x = math.pi\n",
        "\n",
        "print(f\"Numero {x = }\")\n",
        "print(f\"Imprime sem formatação {x}\")\n",
        "print(f\"Imprime com formatação {x:f}\")\n",
        "print(f\"Imprime com espaçamento {x:20f}\")"
      ],
      "metadata": {
        "id": "i1CGbGCCwuuN"
      },
      "execution_count": null,
      "outputs": []
    },
    {
      "cell_type": "code",
      "source": [
        "#Exemplo 008\n",
        "\n",
        "import math\n",
        "\n",
        "x = 10\n",
        "\n",
        "print(f\"Numero {x = }\")\n",
        "print(f'Numero \\t\\tQuadrado \\t Cubo')\n",
        "\n",
        "for x in range(1, 11):\n",
        "  print(f'{x:2d} \\t\\t {x*x:3d} \\t\\t {x*x*x:4d}')"
      ],
      "metadata": {
        "id": "s3Wowttoxjnj"
      },
      "execution_count": null,
      "outputs": []
    },
    {
      "cell_type": "code",
      "source": [
        "#Exemplo 009\n",
        "\n",
        "import math\n",
        "x = 10\n",
        "\n",
        "print(f\"Numero {x = }\")\n",
        "print(f'Numero \\t\\tQuadrado \\t Cubo')\n",
        "\n",
        "for x in range(1, 11):\n",
        "  print(f'{x:5.2f} \\t\\t {x*x:6.2f} \\t {x*x*x:8.2f}')"
      ],
      "metadata": {
        "id": "QNwaWiRUze2c"
      },
      "execution_count": null,
      "outputs": []
    },
    {
      "cell_type": "code",
      "source": [
        "#Exemplo 010\n",
        "\n",
        "APPLES = .50\n",
        "BREAD = 1.50\n",
        "CHEESE = 2.25\n",
        "numApples = 3\n",
        "numBread = 10\n",
        "numCheese = 6\n",
        "\n",
        "prcApples = numApples * APPLES\n",
        "prcBread = numBread* BREAD\n",
        "prcCheese = numCheese * CHEESE\n",
        "strApples = 'Apples'\n",
        "strBread = 'Rye Bread'\n",
        "strCheese = 'Cheese'\n",
        "total = prcBread + prcCheese + prcApples\n",
        "\n",
        "print(f'{\"My Grocery List\":^30s}')\n",
        "print(f'{\"=\"*30}')\n",
        "\n",
        "print(f'{strApples:10s}{numApples:10d}\\t${prcApples:>5.2f}')\n",
        "\n",
        "print(f'{strBread:10s}{numBread:10d}\\t${prcBread:>5.2f}')\n",
        "\n",
        "\n",
        "print(f'{strCheese:10s}{numCheese:10d}\\t${prcCheese:>5.2f}')\n",
        "\n",
        "print(f'{\"Total:\":>20s}\\t${total:>5.2f}')"
      ],
      "metadata": {
        "colab": {
          "base_uri": "https://localhost:8080/"
        },
        "id": "vgNxXbaa2Y5N",
        "outputId": "afff0f66-cc01-4df0-f48f-8275d8e3a62d"
      },
      "execution_count": null,
      "outputs": [
        {
          "output_type": "stream",
          "name": "stdout",
          "text": [
            "       My Grocery List        \n",
            "==============================\n",
            "Apples             3\t$ 1.50\n",
            "Rye Bread         10\t$15.00\n",
            "Cheese             6\t$13.50\n",
            "              Total:\t$30.00\n"
          ]
        }
      ]
    }
  ]
}